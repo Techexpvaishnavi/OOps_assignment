{
 "cells": [
  {
   "cell_type": "markdown",
   "id": "23432292-8281-4cfe-ad63-3e1ca0cfdf99",
   "metadata": {},
   "source": [
    "# Assignementt OOPs"
   ]
  },
  {
   "cell_type": "markdown",
   "id": "0a6c7713-b6e0-460b-b4af-7111d80b28a6",
   "metadata": {},
   "source": [
    "## Q1.  What are the five key concepts of Object-Oriented Programming (OOP)?"
   ]
  },
  {
   "cell_type": "markdown",
   "id": "eb217c1c-8596-405a-8ab5-b2fb84df679f",
   "metadata": {},
   "source": [
    "Ans. In Python objectt=oriented programming(OOPs) is a programming paradigm that uses objects and classes in programming .\n",
    "### Key concepts of OOPs:  \n",
    "1. Class  in Python\n",
    "2. Object in Python\n",
    "3. Polymorphism in Python\n",
    "4. Encapsulation  in Python\n",
    "5. Inheritance in Python\n",
    "6. Data Abstraction in Python\n",
    "\n",
    "\n",
    "\n",
    "\n",
    "<u>Class in Python</u> :   \n",
    " - A class is collection of object.\n",
    " -  A class contains the  buleprint or the prototype from which the objects are being created\n",
    " -  Classes are created by keyword class.\n",
    " -  Attributes are the variables that belongs to a class.\n",
    " -  Attributes are always public and can be accessed using the dot(.) operator.\n",
    "\n",
    "   "
   ]
  },
  {
   "cell_type": "code",
   "execution_count": 1,
   "id": "ba61d622-c8f4-4daf-9a67-c54e2fdb7ecf",
   "metadata": {},
   "outputs": [],
   "source": [
    "class Student:\n",
    "    pass"
   ]
  },
  {
   "cell_type": "markdown",
   "id": "c1faf9ae-1988-447a-86d4-f4e789bc95b6",
   "metadata": {},
   "source": [
    "<u>Object in python </u>: The object is an entity that has a state and behavior associated with it.   \n",
    "A object is consist of:  \n",
    "- State : It is reprented by the attributes of an object .It also reflects the of an object .\n",
    "- Behavior : It is represented by the methods of an object. It also reflects the response of an object to other object.\n",
    "- Identity : It gives a unique name to an objects and enables obe object tto interact with otther objects.\n",
    "  "
   ]
  },
  {
   "cell_type": "code",
   "execution_count": 2,
   "id": "a9a6370b-2a37-4807-b1a6-3a0d31d69c24",
   "metadata": {},
   "outputs": [],
   "source": [
    "object = Student()"
   ]
  },
  {
   "cell_type": "markdown",
   "id": "500231c7-6909-4a90-85d6-eaf8c61e979d",
   "metadata": {},
   "source": [
    "### The Python self   \n",
    "1. Class methods  must have an  extra first parameter in the method definition  . We do not give a value for this parameter when we call the method\n",
    "2. If we have a method that ttakes  no arguments , then we still have to have one argument.\n",
    "\n",
    "\n",
    "### __init__ method   \n",
    "It is  run as object of a class is instantiated  . The method is useful to do any initialization  to do with your object. \n",
    "\n",
    "<u> Python Inheritance</u>  :  Itt is the capability of one class to derive or inherit the properties from another class.The class that drives properties is calles drived class  or child class and the class from which the properties are being derived is called the bae  class or parent class \n",
    "\n",
    "- It represent real- world relationship well..\n",
    "- it provides the reusability of a code.\n",
    "   It is transitive in nature , which means that if class B inherits from another class A . then all the subclasses of B would automaically inherit from class A.\n",
    "\n",
    "\n",
    "\n",
    "  ### Types of inheritance :\n",
    "1. Single Inheritance : A derived class to inherit characterisitics  from a single-parent class .\n",
    "2. Multilevel Inheritance : A derived class tto inherit properties from an immediate parent class which in turn inherits properties from his parents class.\n",
    "3. Hierarchical Inheritance : its enables more than one derived class to inherit properties from a parent class .\n",
    "4. Multiple Inheritance : It enables one drived classs to inherit properties from more than one class base.\n",
    "5. Hybrid Inheritance : It is a combinattion of  one more than types of inheritane."
   ]
  },
  {
   "cell_type": "code",
   "execution_count": 11,
   "id": "778cc385-9e77-4146-abcb-efb99209f47d",
   "metadata": {},
   "outputs": [
    {
     "name": "stdout",
     "output_type": "stream",
     "text": [
      "properties  of apple\n",
      "properites of fruit\n"
     ]
    }
   ],
   "source": [
    "class Fruit:\n",
    "    @property\n",
    "    def properites(self):\n",
    "        print(\"properites of fruit\")\n",
    "\n",
    "\n",
    "class Apple(Fruit):\n",
    "    @property\n",
    "    def apple_properties(self):\n",
    "        print(\"properties  of apple\")\n",
    "\n",
    "\n",
    "\n",
    "ob=Apple()\n",
    "ob.apple_properties\n",
    "ob.properites\n",
    "    "
   ]
  },
  {
   "cell_type": "markdown",
   "id": "3f3e7331-e51b-42b6-83ea-002d20940c0b",
   "metadata": {},
   "source": [
    "<u>Polymorphism </u>:  Polymorphism is simple means having many form .  It show how subclass can overrides method defined in thier paren classs to provide specific behavior while still inherting other methods from the parent class. "
   ]
  },
  {
   "cell_type": "code",
   "execution_count": 21,
   "id": "dda78654-474f-490b-bc74-0d97d1844259",
   "metadata": {},
   "outputs": [
    {
     "name": "stdout",
     "output_type": "stream",
     "text": [
      "sum of two number  46\n",
      "sum of three number  13\n"
     ]
    }
   ],
   "source": [
    "class Addition :\n",
    "    def add(self, num1, num2):\n",
    "        self.num1=num1\n",
    "        self.num2=num2\n",
    "    def display(self):\n",
    "        print(\"sum of two number : \",self.num1 + self.num2)\n",
    "\n",
    "class Add(Addition):\n",
    "    def add(self,num1,num2,num3):\n",
    "        self.num1= num1\n",
    "        self.num2= num2\n",
    "        self.num3= num3\n",
    "    def display(self):\n",
    "        print(\"sum of three number  : \",self.num1+self.num2+self.num3)\n",
    "\n",
    "ob1=Addition()\n",
    "ob1.add(6,40)\n",
    "ob1.display()\n",
    "\n",
    "ob=Add()\n",
    "ob.add(4,5,4)\n",
    "ob.display()"
   ]
  },
  {
   "cell_type": "markdown",
   "id": "7c2c5055-8763-4401-adca-a381cf44cb11",
   "metadata": {},
   "source": [
    "<u>Encapsulation</u> : It describes he idea of wrapping data and the methods that work  on data within one unit . This puts restrictions on accessing the variable and method directly and can prevent the accidently modification of data .To prevent accidently change , an object variable can only be changed  by an objects method."
   ]
  },
  {
   "cell_type": "code",
   "execution_count": 28,
   "id": "7da9e506-56ab-498c-bf89-e379c219f279",
   "metadata": {},
   "outputs": [
    {
     "name": "stdout",
     "output_type": "stream",
     "text": [
      "name of vehicle :  car \n",
      "color of vehicle : Black\n"
     ]
    },
    {
     "data": {
      "text/plain": [
       "'Black'"
      ]
     },
     "execution_count": 28,
     "metadata": {},
     "output_type": "execute_result"
    }
   ],
   "source": [
    "class Vehicle:\n",
    "    def __init__(self,name,color):\n",
    "        self.__name=name\n",
    "        self.__color=color\n",
    "    def display(self):\n",
    "        print(\"name of vehicle : \", self.__name,\"\\ncolor of vehicle :\",self.__color)\n",
    "\n",
    "\n",
    "v=Vehicle(\"car\",\"Black\")\n",
    "v.display()\n",
    "v._Vehicle__name\n",
    "v._Vehicle__color"
   ]
  },
  {
   "cell_type": "markdown",
   "id": "de299bd7-407f-452c-ac89-4fab50296c41",
   "metadata": {},
   "source": [
    "<u>Abstraction</u>: It hides unnecessary code details from the user . Also, when we do not want to give out sensitive parts of our code implemenation and this is where data abstraction came."
   ]
  },
  {
   "cell_type": "code",
   "execution_count": 38,
   "id": "8c39d425-41cd-445b-b6ad-0ed5f79c3ae3",
   "metadata": {},
   "outputs": [
    {
     "name": "stdout",
     "output_type": "stream",
     "text": [
      "area of circle :  78.5\n"
     ]
    },
    {
     "data": {
      "text/plain": [
       "5"
      ]
     },
     "execution_count": 38,
     "metadata": {},
     "output_type": "execute_result"
    }
   ],
   "source": [
    "from abc import ABC\n",
    "class Shape(ABC):\n",
    "    @abc.abstractmethod\n",
    "    def area(self):\n",
    "        pass\n",
    "\n",
    "\n",
    "class  Circle(Shape):\n",
    "    def area(self, radius):\n",
    "        self.radius=radius\n",
    "        print(\"area of circle : \", 3.14 * self.radius**2)\n",
    "c=Circle()\n",
    "c.area(5)\n",
    "c.radius"
   ]
  },
  {
   "cell_type": "markdown",
   "id": "7240b312-9d00-47e6-8335-a2f3bc92ed3b",
   "metadata": {},
   "source": [
    "***"
   ]
  },
  {
   "cell_type": "markdown",
   "id": "1800288c-f03b-43de-aa2e-347fda54fe42",
   "metadata": {},
   "source": [
    "## Q2.  Write a Python class for a `Car` with attributes for `make`, `model`, and `year`. Include a method to display \n",
    "the car's information."
   ]
  },
  {
   "cell_type": "code",
   "execution_count": 40,
   "id": "9d7598f0-fa1b-46ca-b6c6-d14f14d4cd0c",
   "metadata": {},
   "outputs": [
    {
     "name": "stdout",
     "output_type": "stream",
     "text": [
      "The car's information : \n",
      "Make of car : Toyota \n",
      "Modelr of car : Prius \n",
      "Year of car: 2015\n"
     ]
    }
   ],
   "source": [
    "class Car:\n",
    "    def __init__(self,make,model,year):\n",
    "        self.make= make\n",
    "        self.model=model\n",
    "        self.year=year\n",
    "    def display(self):\n",
    "        print(\"The car's information :\",\"\\nMake of car :\",self.make,\"\\nModelr of car :\",self.model, \"\\nYear of car:\",self.year)\n",
    "\n",
    "\n",
    "\n",
    "\n",
    "car1=Car(\"Toyota\",\"Prius\",\"2015\")\n",
    "car1.display()"
   ]
  },
  {
   "cell_type": "markdown",
   "id": "3d106f76-e363-4db2-8350-d29ac7164c57",
   "metadata": {},
   "source": [
    "***"
   ]
  },
  {
   "cell_type": "markdown",
   "id": "57644f5e-f302-450c-b1d6-aa81b8ed40de",
   "metadata": {},
   "source": [
    "## Q3.   Explain the difference between instance methods and class methods. Provide an example of each."
   ]
  },
  {
   "cell_type": "markdown",
   "id": "45d17b72-09f9-4819-8609-7ceaeed3d4fa",
   "metadata": {},
   "source": [
    "<h1>Difference between instance method and class method</h1>\n",
    "<table>\n",
    "    <tr>\n",
    "        <th>Aspect</th>\n",
    "        <th>Class Method</th>\n",
    "        <th>Insttance Method </th>\n",
    "        <th></th>\n",
    "    </tr>\n",
    "    <tr>\n",
    "        <th>Definition</th>\n",
    "        <td>A method bound to the class itself, define with \"@classmethood\".</td>\n",
    "        <td>A method defined within a class , taking 'self' as the first parameter , representing the instance.</td>\n",
    "    </tr>\n",
    "    <tr>\n",
    "        <th>Access</th>\n",
    "        <td>Can Access class attributes and modify them. </td>\n",
    "        <td> Can access and modify instance attributes</td>\n",
    "    </tr>\n",
    "     <tr>\n",
    "         <th>First Argument </th>\n",
    "        <td>Recive's 'cls' as the first argument representing the class. </td>\n",
    "        <td>Receives 'self' as the first argument represening the instance </td>\n",
    "    </tr>\n",
    "    <tr>\n",
    "        <th>Usage</th>\n",
    "        <td>Often used for operation that modify or interact with class - level </td>\n",
    "        <td>Commonly used for oprations specific to indiviual instances </td>\n",
    "    </tr>\n",
    "     <tr>\n",
    "         <th>Inheritance</th>\n",
    "        <td>Can vbe overridden in subclasses ,with 'cls' referring to the subclass </td>\n",
    "        <td>Can be overridden in subclass , with 'self' referrin to the subclass instance</td>\n",
    "    </tr>\n",
    "    <tr>\n",
    "        <th>Access Modifier</th>\n",
    "        <td>Typically used when the method needs access to class-level data. </td>\n",
    "        <td>Preferred when the method operates on instance -specific attributes.</td>\n",
    "    </tr>\n",
    "     <tr>\n",
    "         <th>Example Use</th>\n",
    "        <td>Calculating statistics across all instances of a class </td>\n",
    "        <td>Returning information specific to an instance like its attributes.</td>\n",
    "    </tr>\n",
    "    <tr>\n",
    "        <td></td>\n",
    "        <td></td>\n",
    "    </tr>\n",
    "</table>"
   ]
  },
  {
   "cell_type": "code",
   "execution_count": 46,
   "id": "06f1629c-18ae-4526-b41d-c3e1d74cb011",
   "metadata": {},
   "outputs": [
    {
     "data": {
      "text/plain": [
       "('addition od two number ', 9)"
      ]
     },
     "execution_count": 46,
     "metadata": {},
     "output_type": "execute_result"
    }
   ],
   "source": [
    "# Example class method \n",
    "class Add:\n",
    "    @classmethod\n",
    "    def add(cls,x,y):\n",
    "        return \"addition od two number \" , x + y\n",
    "\n",
    "Add.add(4,5)\n"
   ]
  },
  {
   "cell_type": "code",
   "execution_count": 48,
   "id": "9d3c7853-dd3c-4e2c-8957-acee6781779e",
   "metadata": {},
   "outputs": [
    {
     "data": {
      "text/plain": [
       "('add two number  :', 12)"
      ]
     },
     "execution_count": 48,
     "metadata": {},
     "output_type": "execute_result"
    }
   ],
   "source": [
    "# Example instance method\n",
    "class Add:\n",
    "    def add(self, x,y):\n",
    "        return \"add two number  :\", x +y\n",
    "\n",
    "\n",
    "a=Add()\n",
    "a.add(4,8)"
   ]
  },
  {
   "cell_type": "markdown",
   "id": "84e9e4a2-2ca0-4f2f-a345-1cf384b978a7",
   "metadata": {},
   "source": [
    "## Q4.  How does Python implement method overloading? Give an example."
   ]
  },
  {
   "cell_type": "markdown",
   "id": "7e61e136-64ff-4cd7-9bfa-c80411864e69",
   "metadata": {},
   "source": [
    "### Method Overloading :  \n",
    "Two or more methods have the same name but different numbers of parameters or diffrent types of parameter  or both .This is called method overloading \n",
    "\n",
    "In general .Python does not suppoort method overloading . Though it does not show any complie-time errors, the method overloading in Python will be considered using the last defined metthod. If we try to call the overload method using various arguments or parameters , then we get errors at runtime. "
   ]
  },
  {
   "cell_type": "code",
   "execution_count": 56,
   "id": "6d2362ee-7cfc-4a7e-a0a3-50c8452a2f31",
   "metadata": {},
   "outputs": [
    {
     "ename": "TypeError",
     "evalue": "Calculation.add() missing 1 required positional argument: 'c'",
     "output_type": "error",
     "traceback": [
      "\u001b[1;31m---------------------------------------------------------------------------\u001b[0m",
      "\u001b[1;31mTypeError\u001b[0m                                 Traceback (most recent call last)",
      "Cell \u001b[1;32mIn[56], line 27\u001b[0m\n\u001b[0;32m     24\u001b[0m         \u001b[38;5;28mprint\u001b[39m(\u001b[38;5;124m\"\u001b[39m\u001b[38;5;124mmultiplication of three number :\u001b[39m\u001b[38;5;124m\"\u001b[39m,\u001b[38;5;28mself\u001b[39m\u001b[38;5;241m.\u001b[39ma \u001b[38;5;241m*\u001b[39m \u001b[38;5;28mself\u001b[39m\u001b[38;5;241m.\u001b[39mb \u001b[38;5;241m*\u001b[39m \u001b[38;5;28mself\u001b[39m\u001b[38;5;241m.\u001b[39mc)\n\u001b[0;32m     26\u001b[0m cal\u001b[38;5;241m=\u001b[39mCalculation()\n\u001b[1;32m---> 27\u001b[0m cal\u001b[38;5;241m.\u001b[39madd(\u001b[38;5;241m4\u001b[39m,\u001b[38;5;241m5\u001b[39m)\n",
      "\u001b[1;31mTypeError\u001b[0m: Calculation.add() missing 1 required positional argument: 'c'"
     ]
    }
   ],
   "source": [
    "class Calculation :\n",
    " \n",
    "    def add(self,a,b):\n",
    "        self.a=a\n",
    "        self.b=b\n",
    "        print(\"addition 2 number : \",self.a+self.b)\n",
    "\n",
    "    def add(self,a,b,c):\n",
    "        self.a=a\n",
    "        self.b=b\n",
    "        self.c=c\n",
    "        print(\"sum of three number:\",self.a+self.b+self.c)\n",
    "\n",
    "    def mult(self,a,b):\n",
    "        self.a=a\n",
    "        self.b=b\n",
    "        print(\"multiplication of two number :\",self.a * self.b)\n",
    "\n",
    "   \n",
    "    def mult(self,a,b,c):\n",
    "        self.a=a\n",
    "        self.b=b\n",
    "        self.c=c\n",
    "        print(\"multiplication of three number :\",self.a * self.b * self.c)\n",
    "\n",
    "cal=Calculation()\n",
    "cal.add(4,5)"
   ]
  },
  {
   "cell_type": "markdown",
   "id": "d9909472-5f0b-4aa3-ad18-90a3da999bc4",
   "metadata": {},
   "source": [
    "implementation of method overloading  :  By Using Multiple Dispatch Decorator "
   ]
  },
  {
   "cell_type": "code",
   "execution_count": 58,
   "id": "f34210ba-3b84-4e6c-a6fb-26b4033a86fb",
   "metadata": {},
   "outputs": [
    {
     "name": "stdout",
     "output_type": "stream",
     "text": [
      "addition 2 number :  9\n",
      "sum of three number: 21\n",
      "multiplication of three number : 120\n",
      "multiplication of two number : 30\n"
     ]
    }
   ],
   "source": [
    "# Example of method overloading\n",
    "from multipledispatch import dispatch\n",
    "class Calculation :\n",
    "    @dispatch(int,int)\n",
    "    def add(self,a,b):\n",
    "        self.a=a\n",
    "        self.b=b\n",
    "        print(\"addition 2 number : \",self.a+self.b)\n",
    "\n",
    "    @dispatch(int,int,int)\n",
    "    def add(self,a,b,c):\n",
    "        self.a=a\n",
    "        self.b=b\n",
    "        self.c=c\n",
    "        print(\"sum of three number:\",self.a+self.b+self.c)\n",
    "\n",
    "    @dispatch(int,int)\n",
    "    def mult(self,a,b):\n",
    "        self.a=a\n",
    "        self.b=b\n",
    "        print(\"multiplication of two number :\",self.a * self.b)\n",
    "\n",
    "    @dispatch(int,int,int)\n",
    "    def mult(self,a,b,c):\n",
    "        self.a=a\n",
    "        self.b=b\n",
    "        self.c=c\n",
    "        print(\"multiplication of three number :\",self.a * self.b * self.c)\n",
    "\n",
    "cal=Calculation()\n",
    "cal.add(4,5)\n",
    "cal.add(6,7,8)\n",
    "cal.mult(4,5,6)\n",
    "cal.mult(5,6)\n",
    "        "
   ]
  },
  {
   "cell_type": "markdown",
   "id": "960a28a6-b901-4f4c-b451-4695a8bed3ea",
   "metadata": {},
   "source": [
    "*** \n"
   ]
  },
  {
   "cell_type": "markdown",
   "id": "4c6d8b8e-8bbc-4f09-a0fa-3e7932150d10",
   "metadata": {},
   "source": [
    "## Q5.  What are the three types of access modifiers in Python? How are they denoted?"
   ]
  },
  {
   "cell_type": "markdown",
   "id": "f28f28d6-e829-4564-b4b9-f011ddaa16f6",
   "metadata": {},
   "source": [
    "### 1.Public  Access Modifeir: The members of a class that are declared public are easily accessible from any part of the program . All data memebers and members and memeber and member function of a class are public by default."
   ]
  },
  {
   "cell_type": "code",
   "execution_count": 10,
   "id": "ae4a8231-8d76-4074-8605-5d3f3d0af2ea",
   "metadata": {},
   "outputs": [
    {
     "name": "stdout",
     "output_type": "stream",
     "text": [
      "Name of Exployee :  Nikhil \n",
      "Age of Employee :  65\n"
     ]
    },
    {
     "data": {
      "text/plain": [
       "'Nikhil'"
      ]
     },
     "execution_count": 10,
     "metadata": {},
     "output_type": "execute_result"
    }
   ],
   "source": [
    "class Employee:\n",
    "    def __init__(self,name,age):\n",
    "        self.name=name\n",
    "        self.age=age\n",
    "    def display(self):\n",
    "        print(\"Name of Exployee : \",self.name,\"\\nAge of Employee : \",self.age)\n",
    "\n",
    "e=Employee(\"Nikhil\",65)\n",
    "\n",
    "e.display()\n",
    "e.name"
   ]
  },
  {
   "cell_type": "markdown",
   "id": "29ad01d2-4524-4d3b-8657-6524693bdbdb",
   "metadata": {},
   "source": [
    "### 2.Protected Access Modifeir:   The member of a class that are declared protected are only accessible with in the class where it is declared and ites subclass .A single underscore (_) are used to describe a protected data member or method of class . To implementted proteted field or method the developer follows a specific convention mostly by adding prefix to the variable or function name."
   ]
  },
  {
   "cell_type": "code",
   "execution_count": 44,
   "id": "6278f064-bcf5-4135-9c2f-864c07c9841d",
   "metadata": {},
   "outputs": [
    {
     "name": "stdout",
     "output_type": "stream",
     "text": [
      "Name of Exployee :  nikhil \n",
      "Age of Employee :  35\n"
     ]
    }
   ],
   "source": [
    "class Employee:\n",
    "    def __init__(self):\n",
    "        self._name=\"nikhil\"\n",
    "     \n",
    "\n",
    "class Company(Employee):\n",
    "    def __init__(self,age):\n",
    "        self.age=age\n",
    "        Employee.__init__(self)\n",
    "        \n",
    "    def display(self):\n",
    "        print(\"Name of Exployee : \",self._name,\"\\nAge of Employee : \",self.age)\n",
    "\n",
    "c=Company(35)\n",
    "c.display()\n"
   ]
  },
  {
   "cell_type": "markdown",
   "id": "6bb79ce2-0f87-4cfc-aa6c-e48e3af11861",
   "metadata": {},
   "source": [
    "### 3.Private  Access Modifeir:  The memeber of a class that are declared private are accessible within the class only.   private access modifier is tthe most secure access modifier . Data memeber of a class are decalared private by adding a double underscore( __ ) symbol before the data"
   ]
  },
  {
   "cell_type": "code",
   "execution_count": 9,
   "id": "6c7c916e-3d3f-4305-8899-1c13d287eccb",
   "metadata": {},
   "outputs": [
    {
     "name": "stdout",
     "output_type": "stream",
     "text": [
      "Name of Exployee :  Nikhil \n",
      "Age of Employee :  65\n"
     ]
    },
    {
     "data": {
      "text/plain": [
       "65"
      ]
     },
     "execution_count": 9,
     "metadata": {},
     "output_type": "execute_result"
    }
   ],
   "source": [
    "class Employee:\n",
    "    def __init__(self,name,age):\n",
    "        self.__name=name\n",
    "        self.__age=age\n",
    "    def display(self):\n",
    "        print(\"Name of Exployee : \",self.__name,\"\\nAge of Employee : \",self.__age)\n",
    "\n",
    "e=Employee(\"Nikhil\",65)\n",
    "\n",
    "e.display()\n",
    "e._Employee__age"
   ]
  },
  {
   "cell_type": "markdown",
   "id": "5660c952-91c8-452b-801b-71dcc3f1410a",
   "metadata": {},
   "source": [
    "***"
   ]
  },
  {
   "cell_type": "markdown",
   "id": "9e7b94e9-9e23-4293-8d77-0c051956ac5d",
   "metadata": {},
   "source": [
    "## Q6. Describe the five types of inheritance in Python. Provide a simple example of multiple inheritance"
   ]
  },
  {
   "cell_type": "markdown",
   "id": "051ef7a4-0a92-42e5-933e-4572834f7c9c",
   "metadata": {},
   "source": [
    "# Types of inheristance :\n",
    "### 1.<u>Single inheritance: </u>One class is drived from another class ."
   ]
  },
  {
   "cell_type": "code",
   "execution_count": null,
   "id": "a95a3b9c-c166-4811-9c40-6418bd0b4f33",
   "metadata": {},
   "outputs": [],
   "source": [
    "\"\"\" Syntax-:  \n",
    "class Basic_class_name:\n",
    "      #properities\n",
    "\n",
    "class Drived_class_name(Basic_class_name):\n",
    "       # properties \"\"\" \n",
    " "
   ]
  },
  {
   "cell_type": "markdown",
   "id": "1daaa505-293e-43a1-bed8-87b92122b342",
   "metadata": {},
   "source": [
    "### 2.<u>Mulitlevel  inheritance: </u> Drived class is inherit the properites of derived class . Chain can be occurs"
   ]
  },
  {
   "cell_type": "code",
   "execution_count": 2,
   "id": "8891c82f-8110-4fff-9012-31960a5424b8",
   "metadata": {},
   "outputs": [
    {
     "data": {
      "text/plain": [
       "' Syntax-:  \\nclass Basic_class_name:\\n      #properities\\n\\nclass Drived_class_name(Basic_class_name):\\n       # properties\\n\\nclass class_name(Drived_class_name):\\n       # properties  '"
      ]
     },
     "execution_count": 2,
     "metadata": {},
     "output_type": "execute_result"
    }
   ],
   "source": [
    "\"\"\" Syntax-:  \n",
    "class Basic_class_name:\n",
    "      #properities\n",
    "\n",
    "class Drived_class_name(Basic_class_name):\n",
    "       # properties\n",
    "\n",
    "class class_name(Drived_class_name):\n",
    "       # properties  \"\"\" "
   ]
  },
  {
   "cell_type": "markdown",
   "id": "ce1618fc-58d0-4e9a-bc02-d62b95aebac5",
   "metadata": {},
   "source": [
    "### <u> 3.  Mulitple  inheritance: </u> : child class inherits the proprties from  more than one base class ."
   ]
  },
  {
   "cell_type": "code",
   "execution_count": null,
   "id": "43c1bf2a-a1d4-496c-a3a1-0dc424bfac8d",
   "metadata": {},
   "outputs": [],
   "source": [
    "\"\"\" Syntax-:  \n",
    "class Basic_class_name:\n",
    "      #properities\n",
    "\n",
    "class Basic1_class_name:\n",
    "       # properties\n",
    "\n",
    "class class_name(Basic1_class_name,Baisc_class_name):\n",
    "       # properties  \"\"\" "
   ]
  },
  {
   "cell_type": "markdown",
   "id": "35e7f1e2-7ef2-4225-a3a2-a79d15afce5c",
   "metadata": {},
   "source": [
    "### 4<u>Hierarchical Inheritance : </u> More than one child class inherit the properties single base class."
   ]
  },
  {
   "cell_type": "code",
   "execution_count": null,
   "id": "9ebc337a-e62c-4248-882a-23d698ef430e",
   "metadata": {},
   "outputs": [],
   "source": [
    "\"\"\" Syntax-:  \n",
    "class Basic_class_name:\n",
    "      #properities\n",
    "\n",
    "class child1_class_name(Basic_class_name):\n",
    "       # properties\n",
    "\n",
    "class child2_class_name(Baisc_class_name):\n",
    "       # properties \n",
    "\n",
    "class child3(class_name(Baisc_class_name):\n",
    "       # properties \"\"\" "
   ]
  },
  {
   "cell_type": "markdown",
   "id": "c4ae2c1f-71bc-4902-96f8-d7e3c76042c2",
   "metadata": {},
   "source": [
    "### 5<u>Hybrid  Inheritance :</u> It is a combine the above types of inheritance."
   ]
  },
  {
   "cell_type": "code",
   "execution_count": null,
   "id": "f1da7bbb-61a7-4ddc-9ac5-681c57f3000d",
   "metadata": {},
   "outputs": [],
   "source": [
    "\"\"\" Syntax-:  \n",
    "class Basic_class_name:\n",
    "      #properities\n",
    "\n",
    "class child1_class_name(Basic_class_name):\n",
    "       # properties\n",
    "\n",
    "class child2_class_name(Baisc_class_name):\n",
    "       # properties \n",
    "\n",
    "class child3(class_name(child2_class_name):\n",
    "       # properties \"\"\" "
   ]
  },
  {
   "cell_type": "markdown",
   "id": "7b42affa-0314-4dc1-9b2c-620eaaf75bca",
   "metadata": {},
   "source": [
    "## Example of multiple inheritance: "
   ]
  },
  {
   "cell_type": "code",
   "execution_count": 6,
   "id": "fd5f4e24-c8fb-454c-a23c-cea3b46e1c76",
   "metadata": {},
   "outputs": [
    {
     "name": "stdout",
     "output_type": "stream",
     "text": [
      "very beautifull !\n",
      "very nice voice !\n",
      "very small hight !\n"
     ]
    }
   ],
   "source": [
    "class Father:\n",
    "    def voice(self):\n",
    "        print(\"very nice voice !\")\n",
    "\n",
    "\n",
    "class Mother:\n",
    "    def beauty(self):\n",
    "        print(\"very beautifull !\")\n",
    "\n",
    "class Child(Father,Mother):\n",
    "    def hight(self):\n",
    "        print(\"very small hight !\")\n",
    "\n",
    "\n",
    "\n",
    "child1=Child()\n",
    "child1.beauty()\n",
    "child1.voice()\n",
    "child1.hight()"
   ]
  },
  {
   "cell_type": "markdown",
   "id": "6458cd4b-6af6-4051-a78e-e68afa05a2c3",
   "metadata": {},
   "source": [
    "***"
   ]
  },
  {
   "cell_type": "markdown",
   "id": "20119c3b-ce9f-46b0-8d21-c4763100754d",
   "metadata": {},
   "source": [
    "## Q7.  What is the Method Resolution Order (MRO) in Python? How can you retrieve it programmatically?"
   ]
  },
  {
   "cell_type": "markdown",
   "id": "04e24857-af27-498c-ac3b-45b4d3f77334",
   "metadata": {},
   "source": [
    "## Method Resolution Order:  \n",
    "MRO it denotes the way a programming language resolves a method or attributes . Python supports classes inheriting form other classes .The class being inherited is called the Parent  or Superclass , while the class that inherits is called child or Subclass . MRO defines th order in which  the base classes are serched when executing a metthod. Firstt the method  or atttributes is searched within a class and then it follows tthe order we specified whie inheritng . This order is called linerization of class and set of rules are called MRO(Method  Resolution Order) ,while inheriting from another class,the ineterpreter  needs a wayy to reslove the methods that are being called vis an instance . Thus we need the method resolution order.\n",
    "\n"
   ]
  },
  {
   "cell_type": "code",
   "execution_count": 50,
   "id": "8e6f3626-8635-4272-aab0-4316b787356a",
   "metadata": {},
   "outputs": [
    {
     "name": "stdout",
     "output_type": "stream",
     "text": [
      "In class B\n"
     ]
    }
   ],
   "source": [
    "class A:\n",
    "    def rk(self):\n",
    "        print(\"In class A\")\n",
    "\n",
    "class B(A):\n",
    "    def rk(self):\n",
    "        print(\"In class B\")\n",
    "\n",
    "class C(A):\n",
    "    def rk(self):\n",
    "        print(\"In class C\")\n",
    "\n",
    "class D(B,C):\n",
    "    pass\n",
    "\n",
    "r=D()\n",
    "r.rk()"
   ]
  },
  {
   "cell_type": "markdown",
   "id": "980b42a5-afa7-4d4b-bec9-71777b92bcdf",
   "metadata": {},
   "source": [
    "***"
   ]
  },
  {
   "cell_type": "markdown",
   "id": "80a7470d-08c6-4b00-891e-110612c003f4",
   "metadata": {},
   "source": [
    "## Q8.  Create an abstract base class 'Shape' with an abstract method area() .Then create two subclasses 'Circle','Rectangle' that implement the 'area()' method."
   ]
  },
  {
   "cell_type": "code",
   "execution_count": 3,
   "id": "04c636e4-9a71-493e-8376-4bb8d6fb6cbe",
   "metadata": {},
   "outputs": [
    {
     "name": "stdout",
     "output_type": "stream",
     "text": [
      "area of Circle : 153.86\n",
      "area of Rectanlge : 2278\n"
     ]
    }
   ],
   "source": [
    "import abc\n",
    "class Shape(abc.ABC):\n",
    "    @abc.abstractmethod\n",
    "    def area(self):\n",
    "        pass\n",
    "\n",
    "class Circle(Shape):\n",
    "    def area(self,r):\n",
    "        self.r=r\n",
    "        print(f\"area of Circle : {3.14 * self.r **2}\")\n",
    "\n",
    "\n",
    "class Rectanlge(Shape):\n",
    "    def area(self,l,b):\n",
    "        self.l=l\n",
    "        self.b=b\n",
    "        print(f\"area of Rectanlge : { self.l * self.b }\")\n",
    "\n",
    "ob=Circle()\n",
    "ob.area(7)\n",
    "\n",
    "\n",
    "\n",
    "ob1=Rectanlge()\n",
    "ob1.area(34,67)"
   ]
  },
  {
   "cell_type": "markdown",
   "id": "ba0c1dc0-5290-4746-bc28-3425d1330165",
   "metadata": {},
   "source": [
    "***"
   ]
  },
  {
   "cell_type": "markdown",
   "id": "7de67a3c-505d-467b-9cf2-33349527f4f4",
   "metadata": {},
   "source": [
    "## Q9.Demonstrate polymorphism by creating a function that can work with different shape objects to calculate  and print their areas."
   ]
  },
  {
   "cell_type": "markdown",
   "id": "4cee9d1a-ccaa-410e-893c-51c629a4d1c9",
   "metadata": {},
   "source": [
    "Polymorphism : Polymorphism is simple means having many form . It show how subclass can overrides method defined in thier paren classs to provide specific behavior while still inherting other methods from the parent class.\r\n",
    "\r\n"
   ]
  },
  {
   "cell_type": "code",
   "execution_count": 56,
   "id": "2ab4183c-dcd5-4788-be0c-561f8c8b2fac",
   "metadata": {},
   "outputs": [
    {
     "name": "stdout",
     "output_type": "stream",
     "text": [
      "area of circle: 78.5\n",
      "area of rectangle: 20\n",
      "area of cuboid : 138\n"
     ]
    }
   ],
   "source": [
    "from multipledispatch import dispatch\n",
    "class Shape:\n",
    "    @dispatch(int)\n",
    "    def area(self,x):\n",
    "        self.x=x\n",
    "        print(\"area of circle:\", 3.14*self.x**2)\n",
    "\n",
    "    @dispatch(int, int)\n",
    "    def area(self,x,y):\n",
    "        print(\"area of rectangle:\",x*y)\n",
    "\n",
    "    @dispatch(int,int,int)\n",
    "    def area(self,x,y,z):\n",
    "        print(\"area of cuboid :\",2*x*y + 2*y*y + 2*x * z) \n",
    "\n",
    "\n",
    "object=Shape()\n",
    "object.area(5)\n",
    "object.area(4,5)\n",
    "object.area(4,5,6)"
   ]
  },
  {
   "cell_type": "markdown",
   "id": "83c83a88-002f-442a-9065-862be96f6684",
   "metadata": {},
   "source": [
    "***"
   ]
  },
  {
   "cell_type": "markdown",
   "id": "d9129418-6dfd-4a5e-92e9-0323a69c6170",
   "metadata": {},
   "source": [
    "## Q10. Implement encapsulation in a `BankAccount` class with private attributes for `balance` and  `account_number`. Include methods for deposit, withdrawal, and balance inquiry."
   ]
  },
  {
   "cell_type": "code",
   "execution_count": 10,
   "id": "3c5eeade-7d4e-471d-8fbb-e23194b0934d",
   "metadata": {},
   "outputs": [
    {
     "name": "stdout",
     "output_type": "stream",
     "text": [
      "Deposited $ 800.00. New balance:2000\n",
      "Withdraw $ 1000.00 . New balance: $1000\n",
      "available balance :   1000\n"
     ]
    }
   ],
   "source": [
    "class BankAccount:\n",
    "    \n",
    "    def __init__(self,account_number,balance):\n",
    "        self.__account_number=account_number\n",
    "        self.__balance=balance\n",
    "        \n",
    "    def deposit(self,amount):\n",
    "        if amount>0:\n",
    "            self.__balance=self.__balance+amount\n",
    "            print(f\"Deposited ${amount : .2f}. New balance:{self.__balance}\") \n",
    "        else:\n",
    "            print(f\"Deposit amount must be positive.\")\n",
    "        \n",
    "    def withdraw(self,amount):\n",
    "        if amount>self.__balance:\n",
    "            print(\"Insufficient blance ! \")\n",
    "        else:\n",
    "            self.__balance=self.__balance-amount\n",
    "            print(f\"Withdraw ${amount: .2f} . New balance: ${self.__balance}\")\n",
    "    def get_balance(self):\n",
    "        print(\"available balance :  \",self.__balance)\n",
    "\n",
    "    def get_account_number(self):\n",
    "        print(\"your account number :  \",self.__acount_number)\n",
    "        \n",
    "        \n",
    "\n",
    "customer=BankAccount(3456789086,1200)\n",
    "customer.deposit(800)\n",
    "customer.withdraw(1000)\n",
    "customer.get_balance()\n"
   ]
  },
  {
   "cell_type": "markdown",
   "id": "f941254e-5cfa-4727-8fbd-ab2e25a11a5f",
   "metadata": {},
   "source": [
    "***"
   ]
  },
  {
   "cell_type": "markdown",
   "id": "6cb2ccaf-6e16-49a5-82e6-40d166690228",
   "metadata": {},
   "source": [
    "## Q11. Write a class that overrides the `__str__` and `__add__` magic methods. What will these methods allow you to do?"
   ]
  },
  {
   "cell_type": "code",
   "execution_count": 25,
   "id": "3be7b492-4000-4651-afd3-0b0876d3a699",
   "metadata": {},
   "outputs": [
    {
     "name": "stdout",
     "output_type": "stream",
     "text": [
      "4 + i5 \n",
      " 6 + i7\n",
      "(10, 11)\n",
      "None\n"
     ]
    }
   ],
   "source": [
    "class Complex:\n",
    " \n",
    "    # Constructor\n",
    "    def __init__(self, real, imag):\n",
    "        self.real = real\n",
    "        self.imag = imag\n",
    " \n",
    "   \n",
    "    def __str__(self):\n",
    "        return '%s + i%s' % (self.real, self.imag) \n",
    "\n",
    "\n",
    "    def __add__(self,obj):\n",
    "        print(f\"{self.real + obj.real , self.real +obj.imag}\")\n",
    "\n",
    "\n",
    "class Com(Complex):\n",
    "    def __init__(self, real, imag):\n",
    "        super().__init__(real,imag)\n",
    "        self.real = real\n",
    "        self.imag = imag\n",
    " \n",
    "   \n",
    "    def __str__(self):\n",
    "        return '%s + i%s' % (self.real, self.imag) \n",
    "\n",
    "    def __add__(self,obj):\n",
    "        print(f\"{self.real + obj.real , self.real +obj.imag}\")\n",
    "\n",
    "\n",
    "        \n",
    "ob=Com(4,5)\n",
    "ob1=Com(6,7)\n",
    "print(str(ob),\"\\n\",str(ob1))\n",
    "ob2=ob+ob1\n",
    "print(ob2)\n",
    "\n",
    "\n",
    "\n"
   ]
  },
  {
   "cell_type": "markdown",
   "id": "4857b988-c80a-4423-a97a-3cc44b9ffab7",
   "metadata": {},
   "source": [
    "***"
   ]
  },
  {
   "cell_type": "markdown",
   "id": "d1114469-e37a-4ae1-a619-4973d2b7f2fc",
   "metadata": {},
   "source": [
    "## Q12. Create a decorator that measures and prints the execution time of a function."
   ]
  },
  {
   "cell_type": "code",
   "execution_count": 20,
   "id": "93990516-52e1-4ea5-a073-d109b0b2aafb",
   "metadata": {},
   "outputs": [],
   "source": [
    "@time_decorator\n",
    "def func():\n",
    "    print(78*56)\n",
    "    \n",
    "    "
   ]
  },
  {
   "cell_type": "code",
   "execution_count": 19,
   "id": "37c87a9e-75c8-4e01-9b42-f4a73868fd20",
   "metadata": {},
   "outputs": [],
   "source": [
    "import time\n",
    "def time_decorator(func):\n",
    "    def timer():\n",
    "        start=time.time()\n",
    "        func()\n",
    "        end=time.time()\n",
    "        print(end-start)\n",
    "    return timer\n",
    "    \n",
    "        \n",
    "\n"
   ]
  },
  {
   "cell_type": "code",
   "execution_count": 21,
   "id": "e2b6a157-db1d-438b-a53c-2d4b43af89a8",
   "metadata": {},
   "outputs": [
    {
     "name": "stdout",
     "output_type": "stream",
     "text": [
      "4368\n"
     ]
    },
    {
     "data": {
      "text/plain": [
       "0.0"
      ]
     },
     "execution_count": 21,
     "metadata": {},
     "output_type": "execute_result"
    }
   ],
   "source": [
    "func()"
   ]
  },
  {
   "cell_type": "markdown",
   "id": "96c05122-08d8-4984-a1cf-a4e7f2dddc94",
   "metadata": {},
   "source": [
    "***"
   ]
  },
  {
   "cell_type": "markdown",
   "id": "d75ddcfb-8af5-4664-85ef-0dd464aefd63",
   "metadata": {},
   "source": [
    "## Q13.Explain the concept of the Diamond Problem in multiple inheritance. How does Python resolve it?"
   ]
  },
  {
   "cell_type": "markdown",
   "id": "2cbeab4b-05f4-4580-8c09-3ac61e4fac82",
   "metadata": {},
   "source": [
    "### multiple Inheritance : child class is drived from more than one base class \n",
    "\n",
    "### Ambiguity problem is a diamond problem   It is refer to class1 and class2 is inherit the super class1 and class4 is derived from class2, class3  If there is a method “m” which is an overridden method in one of Class2 and Class3 or both then the ambiguity arises which of the method “m” Class4 should inherit."
   ]
  },
  {
   "cell_type": "code",
   "execution_count": 87,
   "id": "05df0734-6a1c-4160-926d-7848d9fcb864",
   "metadata": {},
   "outputs": [
    {
     "name": "stdout",
     "output_type": "stream",
     "text": [
      " my class is D\n",
      " my class is B\n",
      " my class is C\n",
      " my class is A\n"
     ]
    }
   ],
   "source": [
    "class A:\n",
    "    def classname(self):\n",
    "        print(\" my class is A\")\n",
    "\n",
    "class B(A):\n",
    "    def classname(self):\n",
    "        print(\" my class is B\")\n",
    "\n",
    "class C(A):\n",
    "    def classname(self):\n",
    "        print(\" my class is C\")\n",
    "\n",
    "class D(B,C):\n",
    "    def classname(self):\n",
    "        print(\" my class is D\")\n",
    "        B.classname(self)\n",
    "        C.classname(self)\n",
    "        A.classname(self)\n",
    "\n",
    "\n",
    "\n",
    "ob=D()\n",
    "ob.classname()"
   ]
  },
  {
   "cell_type": "markdown",
   "id": "55065dd2-b8d0-4e03-8274-52c5447a90fd",
   "metadata": {},
   "source": [
    "***"
   ]
  },
  {
   "cell_type": "markdown",
   "id": "de5df998-5682-4599-87ac-2e708949f849",
   "metadata": {},
   "source": [
    "## Q14. Write a class method that keeps track of the number of instances created from a class."
   ]
  },
  {
   "cell_type": "code",
   "execution_count": 83,
   "id": "c6f17bb7-b15c-4636-ac62-45b776ac431d",
   "metadata": {},
   "outputs": [
    {
     "name": "stdout",
     "output_type": "stream",
     "text": [
      " The number of instances created from a class : 3\n"
     ]
    }
   ],
   "source": [
    "class Color:\n",
    "    instances=[]\n",
    "    def __init__(self,name):\n",
    "        self.name=name\n",
    "        Color.instances.append(self)\n",
    "\n",
    "\n",
    "ob=Color(\"red\")\n",
    "ob1=Color(\"Blue\")\n",
    "on2=Color(\"Orange\")\n",
    "\n",
    "print(\" The number of instances created from a class :\",len(Color.instances))\n"
   ]
  },
  {
   "cell_type": "markdown",
   "id": "7229233a-7ac0-4525-86c7-adfc36c86bac",
   "metadata": {},
   "source": [
    "***"
   ]
  },
  {
   "cell_type": "markdown",
   "id": "9ddac8a1-62ee-4a7e-a941-13340cb71576",
   "metadata": {},
   "source": [
    "## Q15.Implement a static method in a class that checks if a given year is a leap year."
   ]
  },
  {
   "cell_type": "code",
   "execution_count": null,
   "id": "1140469e-55ea-4ae4-a292-93e83830513c",
   "metadata": {},
   "outputs": [],
   "source": []
  },
  {
   "cell_type": "code",
   "execution_count": 75,
   "id": "007b4105-3793-4275-b97a-dce66cd7260e",
   "metadata": {},
   "outputs": [
    {
     "name": "stdin",
     "output_type": "stream",
     "text": [
      "Enter the year: 2021\n"
     ]
    },
    {
     "name": "stdout",
     "output_type": "stream",
     "text": [
      "This is not a leap year !\n"
     ]
    }
   ],
   "source": [
    "class Leap_year:\n",
    "    @staticmethod\n",
    "    def leapyear():\n",
    "        year=int(input(\"Enter the year:\"))\n",
    "        if (year%4 == 0 and year %100 == 0 ) or (year % 400 == 0):\n",
    "            print(\"This year is a leap year !\")\n",
    "        else:\n",
    "            print(\"This is not a leap year !\")\n",
    "Leap_year.leapyear()\n"
   ]
  },
  {
   "cell_type": "markdown",
   "id": "225666ac-f412-439d-8a5f-4255d951d556",
   "metadata": {},
   "source": [
    "***"
   ]
  },
  {
   "cell_type": "code",
   "execution_count": null,
   "id": "37a734f3-373b-4379-b8b4-ea34284b6cb6",
   "metadata": {},
   "outputs": [],
   "source": []
  }
 ],
 "metadata": {
  "kernelspec": {
   "display_name": "Python 3 (ipykernel)",
   "language": "python",
   "name": "python3"
  },
  "language_info": {
   "codemirror_mode": {
    "name": "ipython",
    "version": 3
   },
   "file_extension": ".py",
   "mimetype": "text/x-python",
   "name": "python",
   "nbconvert_exporter": "python",
   "pygments_lexer": "ipython3",
   "version": "3.12.4"
  }
 },
 "nbformat": 4,
 "nbformat_minor": 5
}
